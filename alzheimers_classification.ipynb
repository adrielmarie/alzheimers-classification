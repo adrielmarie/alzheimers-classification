{
  "cells": [
    {
      "cell_type": "markdown",
      "id": "24f403a9",
      "metadata": {
        "id": "24f403a9"
      },
      "source": [
        "# Import libraries"
      ]
    },
    {
      "cell_type": "code",
      "source": [
        "from google.colab import drive\n",
        "drive.mount('/content/drive')"
      ],
      "metadata": {
        "colab": {
          "base_uri": "https://localhost:8080/"
        },
        "id": "rw1n-uj1LN8X",
        "outputId": "67dce4e4-8c24-4ef9-97a2-590c0c58e069"
      },
      "id": "rw1n-uj1LN8X",
      "execution_count": 1,
      "outputs": [
        {
          "output_type": "stream",
          "name": "stdout",
          "text": [
            "Mounted at /content/drive\n"
          ]
        }
      ]
    },
    {
      "cell_type": "code",
      "execution_count": 2,
      "id": "50d66a7b",
      "metadata": {
        "colab": {
          "base_uri": "https://localhost:8080/",
          "height": 36
        },
        "id": "50d66a7b",
        "outputId": "84d8bff2-3e5c-4ccb-c390-f56df411cc73"
      },
      "outputs": [
        {
          "output_type": "execute_result",
          "data": {
            "text/plain": [
              "'/device:GPU:0'"
            ],
            "application/vnd.google.colaboratory.intrinsic+json": {
              "type": "string"
            }
          },
          "metadata": {},
          "execution_count": 2
        }
      ],
      "source": [
        "import tensorflow as tf\n",
        "from tensorflow import keras\n",
        "from keras.models import Sequential, Model\n",
        "from keras.layers import Dense, Conv2D, MaxPool2D , Flatten, Dropout\n",
        "from keras.preprocessing.image import ImageDataGenerator\n",
        "import numpy as np\n",
        "from keras.applications.vgg16 import VGG16\n",
        "import matplotlib.pyplot as plt\n",
        "from sklearn.metrics import classification_report\n",
        "\n",
        "# To prevent the kernel from dying when models are being trained\n",
        "import os\n",
        "os.environ['KMP_DUPLICATE_LIB_OK']='True'\n",
        "\n",
        "tf.test.gpu_device_name()"
      ]
    },
    {
      "cell_type": "markdown",
      "id": "0e529969",
      "metadata": {
        "id": "0e529969"
      },
      "source": [
        "# Preprocessing\n",
        "### 1, 2"
      ]
    },
    {
      "cell_type": "code",
      "execution_count": 3,
      "id": "e407816f",
      "metadata": {
        "id": "e407816f"
      },
      "outputs": [],
      "source": [
        "# Set the directory where the train and test data are located\n",
        "train_directory = '/content/drive/MyDrive/Alzheimers Dataset/train'\n",
        "test_directory = '/content/drive/MyDrive/Alzheimers Dataset/test'"
      ]
    },
    {
      "cell_type": "code",
      "execution_count": 4,
      "id": "27fbf0bb",
      "metadata": {
        "colab": {
          "base_uri": "https://localhost:8080/"
        },
        "id": "27fbf0bb",
        "outputId": "7715e964-ccdd-4170-dd91-9b99107af446"
      },
      "outputs": [
        {
          "output_type": "stream",
          "name": "stdout",
          "text": [
            "Found 5121 images belonging to 4 classes.\n",
            "Found 1279 images belonging to 4 classes.\n"
          ]
        }
      ],
      "source": [
        "# Image preprocessing\n",
        "IMAGE_SIZE = [176, 208]\n",
        "\n",
        "tr = ImageDataGenerator(\n",
        "    rescale = 1./255,\n",
        "    shear_range = 0.2,\n",
        "    zoom_range = 0.2,\n",
        "    horizontal_flip = True)\n",
        "train = tr.flow_from_directory(directory=train_directory,target_size=(176, 208), batch_size=32, class_mode='categorical')\n",
        "ts = ImageDataGenerator(rescale = 1./255)\n",
        "test = ts.flow_from_directory(directory=test_directory, target_size=(178, 208), batch_size=32, class_mode='categorical')"
      ]
    },
    {
      "cell_type": "markdown",
      "id": "01e6d7d9",
      "metadata": {
        "id": "01e6d7d9"
      },
      "source": [
        "# Transfer Learning with VGG16\n",
        "### 3.1"
      ]
    },
    {
      "cell_type": "code",
      "execution_count": 5,
      "id": "6f59f15f",
      "metadata": {
        "colab": {
          "base_uri": "https://localhost:8080/"
        },
        "id": "6f59f15f",
        "outputId": "3aba0a17-c0d8-416a-9b79-d9e0b974904e"
      },
      "outputs": [
        {
          "output_type": "stream",
          "name": "stdout",
          "text": [
            "Downloading data from https://storage.googleapis.com/tensorflow/keras-applications/vgg16/vgg16_weights_tf_dim_ordering_tf_kernels_notop.h5\n",
            "58889256/58889256 [==============================] - 2s 0us/step\n",
            "Model: \"vgg16\"\n",
            "_________________________________________________________________\n",
            " Layer (type)                Output Shape              Param #   \n",
            "=================================================================\n",
            " input_1 (InputLayer)        [(None, 176, 208, 3)]     0         \n",
            "                                                                 \n",
            " block1_conv1 (Conv2D)       (None, 176, 208, 64)      1792      \n",
            "                                                                 \n",
            " block1_conv2 (Conv2D)       (None, 176, 208, 64)      36928     \n",
            "                                                                 \n",
            " block1_pool (MaxPooling2D)  (None, 88, 104, 64)       0         \n",
            "                                                                 \n",
            " block2_conv1 (Conv2D)       (None, 88, 104, 128)      73856     \n",
            "                                                                 \n",
            " block2_conv2 (Conv2D)       (None, 88, 104, 128)      147584    \n",
            "                                                                 \n",
            " block2_pool (MaxPooling2D)  (None, 44, 52, 128)       0         \n",
            "                                                                 \n",
            " block3_conv1 (Conv2D)       (None, 44, 52, 256)       295168    \n",
            "                                                                 \n",
            " block3_conv2 (Conv2D)       (None, 44, 52, 256)       590080    \n",
            "                                                                 \n",
            " block3_conv3 (Conv2D)       (None, 44, 52, 256)       590080    \n",
            "                                                                 \n",
            " block3_pool (MaxPooling2D)  (None, 22, 26, 256)       0         \n",
            "                                                                 \n",
            " block4_conv1 (Conv2D)       (None, 22, 26, 512)       1180160   \n",
            "                                                                 \n",
            " block4_conv2 (Conv2D)       (None, 22, 26, 512)       2359808   \n",
            "                                                                 \n",
            " block4_conv3 (Conv2D)       (None, 22, 26, 512)       2359808   \n",
            "                                                                 \n",
            " block4_pool (MaxPooling2D)  (None, 11, 13, 512)       0         \n",
            "                                                                 \n",
            " block5_conv1 (Conv2D)       (None, 11, 13, 512)       2359808   \n",
            "                                                                 \n",
            " block5_conv2 (Conv2D)       (None, 11, 13, 512)       2359808   \n",
            "                                                                 \n",
            " block5_conv3 (Conv2D)       (None, 11, 13, 512)       2359808   \n",
            "                                                                 \n",
            " block5_pool (MaxPooling2D)  (None, 5, 6, 512)         0         \n",
            "                                                                 \n",
            "=================================================================\n",
            "Total params: 14714688 (56.13 MB)\n",
            "Trainable params: 14714688 (56.13 MB)\n",
            "Non-trainable params: 0 (0.00 Byte)\n",
            "_________________________________________________________________\n",
            "None\n"
          ]
        }
      ],
      "source": [
        "# Initialize VGG16 model\n",
        "INPUT_SHAPE = (176,208,3)\n",
        "vgg16_mod = VGG16(include_top=False, input_shape=INPUT_SHAPE,weights='imagenet')\n",
        "print(vgg16_mod.summary())"
      ]
    },
    {
      "cell_type": "code",
      "execution_count": 6,
      "id": "ab26531a",
      "metadata": {
        "id": "ab26531a"
      },
      "outputs": [],
      "source": [
        "# Freeze training\n",
        "for layer in vgg16_mod.layers:\n",
        "  layer.trainable= False"
      ]
    },
    {
      "cell_type": "code",
      "execution_count": 7,
      "id": "b5298225",
      "metadata": {
        "colab": {
          "base_uri": "https://localhost:8080/"
        },
        "id": "b5298225",
        "outputId": "1d20f6f6-6371-4779-9055-14c79017366a"
      },
      "outputs": [
        {
          "output_type": "stream",
          "name": "stdout",
          "text": [
            "Model: \"sequential\"\n",
            "_________________________________________________________________\n",
            " Layer (type)                Output Shape              Param #   \n",
            "=================================================================\n",
            " vgg16 (Functional)          (None, 5, 6, 512)         14714688  \n",
            "                                                                 \n",
            " global_average_pooling2d (  (None, 512)               0         \n",
            " GlobalAveragePooling2D)                                         \n",
            "                                                                 \n",
            " flatten (Flatten)           (None, 512)               0         \n",
            "                                                                 \n",
            " batch_normalization (Batch  (None, 512)               2048      \n",
            " Normalization)                                                  \n",
            "                                                                 \n",
            " dense (Dense)               (None, 2048)              1050624   \n",
            "                                                                 \n",
            " dropout (Dropout)           (None, 2048)              0         \n",
            "                                                                 \n",
            " batch_normalization_1 (Bat  (None, 2048)              8192      \n",
            " chNormalization)                                                \n",
            "                                                                 \n",
            " dense_1 (Dense)             (None, 512)               1049088   \n",
            "                                                                 \n",
            " dropout_1 (Dropout)         (None, 512)               0         \n",
            "                                                                 \n",
            " batch_normalization_2 (Bat  (None, 512)               2048      \n",
            " chNormalization)                                                \n",
            "                                                                 \n",
            " dense_2 (Dense)             (None, 128)               65664     \n",
            "                                                                 \n",
            " dropout_2 (Dropout)         (None, 128)               0         \n",
            "                                                                 \n",
            " batch_normalization_3 (Bat  (None, 128)               512       \n",
            " chNormalization)                                                \n",
            "                                                                 \n",
            " dense_3 (Dense)             (None, 64)                8256      \n",
            "                                                                 \n",
            " dropout_3 (Dropout)         (None, 64)                0         \n",
            "                                                                 \n",
            " batch_normalization_4 (Bat  (None, 64)                256       \n",
            " chNormalization)                                                \n",
            "                                                                 \n",
            " dense_4 (Dense)             (None, 4)                 260       \n",
            "                                                                 \n",
            "=================================================================\n",
            "Total params: 16901636 (64.47 MB)\n",
            "Trainable params: 2180420 (8.32 MB)\n",
            "Non-trainable params: 14721216 (56.16 MB)\n",
            "_________________________________________________________________\n"
          ]
        }
      ],
      "source": [
        "custom_vgg16 = Sequential([vgg16_mod,\n",
        "                tf.keras.layers.GlobalAveragePooling2D(),\n",
        "                keras.layers.Flatten(),\n",
        "                keras.layers.BatchNormalization(),\n",
        "                keras.layers.Dense(2048, activation='relu'),\n",
        "                keras.layers.Dropout(0.5),\n",
        "                keras.layers.BatchNormalization(),\n",
        "                keras.layers.Dense(512, activation='relu'),\n",
        "                keras.layers.Dropout(0.5),\n",
        "                keras.layers.BatchNormalization(),\n",
        "                keras.layers.Dense(128, activation='relu'),\n",
        "                keras.layers.Dropout(0.5),\n",
        "                keras.layers.BatchNormalization(),\n",
        "                keras.layers.Dense(64, activation='relu'),\n",
        "                keras.layers.Dropout(0.5),\n",
        "                keras.layers.BatchNormalization(),\n",
        "                keras.layers.Dense(4,activation='softmax')\n",
        "                ])\n",
        "\n",
        "custom_vgg16.summary()"
      ]
    },
    {
      "cell_type": "code",
      "source": [
        "# Create an optimizer with the learning rate schedule\n",
        "opt = tf.keras.optimizers.Adam(learning_rate=0.003)\n",
        "\n",
        "early_stop = tf.keras.callbacks.EarlyStopping(monitor='val_accuracy', patience=10)"
      ],
      "metadata": {
        "id": "5b1ikKjUUYWk"
      },
      "id": "5b1ikKjUUYWk",
      "execution_count": 8,
      "outputs": []
    },
    {
      "cell_type": "code",
      "execution_count": 9,
      "id": "198eae3c",
      "metadata": {
        "id": "198eae3c"
      },
      "outputs": [],
      "source": [
        "# Compile the model with Adam optimizer\n",
        "custom_vgg16.compile(\n",
        "    loss='categorical_crossentropy',\n",
        "    optimizer=opt,\n",
        "    metrics=['accuracy']\n",
        ")"
      ]
    },
    {
      "cell_type": "code",
      "execution_count": 12,
      "id": "52be4697",
      "metadata": {
        "scrolled": false,
        "id": "52be4697",
        "colab": {
          "base_uri": "https://localhost:8080/"
        },
        "outputId": "0b145316-e5d5-4337-bfa9-9c00a5c359cc"
      },
      "outputs": [
        {
          "output_type": "stream",
          "name": "stdout",
          "text": [
            "Epoch 1/20\n",
            "161/161 [==============================] - 80s 497ms/step - loss: 0.8290 - accuracy: 0.6145 - val_loss: 1.0927 - val_accuracy: 0.5872\n",
            "Epoch 2/20\n",
            "161/161 [==============================] - 73s 451ms/step - loss: 0.8227 - accuracy: 0.6161 - val_loss: 1.2604 - val_accuracy: 0.5731\n",
            "Epoch 3/20\n",
            "161/161 [==============================] - 73s 455ms/step - loss: 0.8154 - accuracy: 0.6278 - val_loss: 1.0432 - val_accuracy: 0.5856\n",
            "Epoch 4/20\n",
            "161/161 [==============================] - 72s 448ms/step - loss: 0.8035 - accuracy: 0.6288 - val_loss: 0.9409 - val_accuracy: 0.6271\n",
            "Epoch 5/20\n",
            "161/161 [==============================] - 72s 448ms/step - loss: 0.7863 - accuracy: 0.6489 - val_loss: 0.8684 - val_accuracy: 0.6333\n",
            "Epoch 6/20\n",
            "161/161 [==============================] - 73s 451ms/step - loss: 0.7774 - accuracy: 0.6559 - val_loss: 1.0227 - val_accuracy: 0.5856\n",
            "Epoch 7/20\n",
            "161/161 [==============================] - 78s 481ms/step - loss: 0.7643 - accuracy: 0.6557 - val_loss: 1.1905 - val_accuracy: 0.5887\n",
            "Epoch 8/20\n",
            "161/161 [==============================] - 73s 452ms/step - loss: 0.7368 - accuracy: 0.6782 - val_loss: 0.9357 - val_accuracy: 0.6138\n",
            "Epoch 9/20\n",
            "161/161 [==============================] - 75s 462ms/step - loss: 0.7233 - accuracy: 0.6860 - val_loss: 1.1348 - val_accuracy: 0.6122\n",
            "Epoch 10/20\n",
            "161/161 [==============================] - 73s 452ms/step - loss: 0.7210 - accuracy: 0.6889 - val_loss: 0.8674 - val_accuracy: 0.6341\n",
            "Epoch 11/20\n",
            "161/161 [==============================] - 74s 458ms/step - loss: 0.7148 - accuracy: 0.6928 - val_loss: 1.0993 - val_accuracy: 0.6161\n",
            "Epoch 12/20\n",
            "161/161 [==============================] - 75s 467ms/step - loss: 0.7067 - accuracy: 0.6926 - val_loss: 0.9734 - val_accuracy: 0.6067\n",
            "Epoch 13/20\n",
            "161/161 [==============================] - 75s 463ms/step - loss: 0.6985 - accuracy: 0.7004 - val_loss: 0.9733 - val_accuracy: 0.6380\n",
            "Epoch 14/20\n",
            "161/161 [==============================] - 73s 455ms/step - loss: 0.7006 - accuracy: 0.7053 - val_loss: 0.8972 - val_accuracy: 0.6192\n",
            "Epoch 15/20\n",
            "161/161 [==============================] - 74s 458ms/step - loss: 0.6731 - accuracy: 0.7135 - val_loss: 0.8848 - val_accuracy: 0.6505\n",
            "Epoch 16/20\n",
            "161/161 [==============================] - 74s 461ms/step - loss: 0.6587 - accuracy: 0.7262 - val_loss: 0.8669 - val_accuracy: 0.6411\n",
            "Epoch 17/20\n",
            "161/161 [==============================] - 75s 466ms/step - loss: 0.6578 - accuracy: 0.7258 - val_loss: 0.8822 - val_accuracy: 0.6427\n",
            "Epoch 18/20\n",
            "161/161 [==============================] - 74s 457ms/step - loss: 0.6428 - accuracy: 0.7315 - val_loss: 0.9450 - val_accuracy: 0.6575\n",
            "Epoch 19/20\n",
            "161/161 [==============================] - 75s 463ms/step - loss: 0.6443 - accuracy: 0.7362 - val_loss: 0.9834 - val_accuracy: 0.6302\n",
            "Epoch 20/20\n",
            "161/161 [==============================] - 75s 467ms/step - loss: 0.6336 - accuracy: 0.7364 - val_loss: 0.8912 - val_accuracy: 0.6458\n"
          ]
        }
      ],
      "source": [
        "# Train the model\n",
        "vgg16_trained = custom_vgg16.fit(\n",
        "    train,\n",
        "    validation_data = test,\n",
        "    epochs = 20,\n",
        "    steps_per_epoch = len(train),\n",
        "    validation_steps = len(test),\n",
        "    callbacks=[early_stop]\n",
        ")"
      ]
    },
    {
      "cell_type": "code",
      "execution_count": 16,
      "id": "40bf59f9",
      "metadata": {
        "id": "40bf59f9",
        "outputId": "408aa925-6102-46b3-b37d-c7f624b55995",
        "colab": {
          "base_uri": "https://localhost:8080/",
          "height": 492
        }
      },
      "outputs": [
        {
          "output_type": "display_data",
          "data": {
            "text/plain": [
              "<Figure size 640x480 with 1 Axes>"
            ],
            "image/png": "[encoded data removed]"
          },
          "metadata": {}
        },
        {
          "output_type": "stream",
          "name": "stdout",
          "text": [
            "40/40 - 6s - loss: 0.8912 - accuracy: 0.6458 - 6s/epoch - 155ms/step\n",
            "Test accuracy: 0.6458170413970947\n"
          ]
        }
      ],
      "source": [
        "# Plot history\n",
        "plt.plot(vgg16_trained.history['accuracy'], label='accuracy')\n",
        "plt.plot(vgg16_trained.history['val_accuracy'], label = 'val_accuracy')\n",
        "plt.xlabel('Epoch')\n",
        "plt.ylabel('Accuracy')\n",
        "plt.ylim([0, 1])\n",
        "plt.legend(loc='lower right')\n",
        "plt.show()\n",
        "\n",
        "# Evaluate model\n",
        "vgg16_test_loss, vgg16_test_acc = custom_vgg16.evaluate(test, verbose=2)\n",
        "print(f'Test accuracy: {vgg16_test_acc}')"
      ]
    },
    {
      "cell_type": "code",
      "execution_count": 17,
      "id": "0cf44168",
      "metadata": {
        "id": "0cf44168",
        "outputId": "8ade270c-38ae-4735-e23f-2fa154063ef5",
        "colab": {
          "base_uri": "https://localhost:8080/"
        }
      },
      "outputs": [
        {
          "output_type": "stream",
          "name": "stdout",
          "text": [
            "40/40 [==============================] - 6s 146ms/step\n",
            "                  precision    recall  f1-score   support\n",
            "\n",
            "    MildDemented       0.14      0.06      0.08       179\n",
            "ModerateDemented       0.00      0.00      0.00        12\n",
            "     NonDemented       0.50      0.70      0.58       640\n",
            "VeryMildDemented       0.38      0.26      0.31       448\n",
            "\n",
            "        accuracy                           0.45      1279\n",
            "       macro avg       0.25      0.25      0.24      1279\n",
            "    weighted avg       0.40      0.45      0.41      1279\n",
            "\n"
          ]
        }
      ],
      "source": [
        "# Predict\n",
        "vgg16_preds = custom_vgg16.predict(test)\n",
        "vgg16_ypred = np.argmax(vgg16_preds, axis=1)\n",
        "\n",
        "# Classification report\n",
        "vgg16_tdict = test.class_indices\n",
        "vgg16_classes = list(vgg16_tdict.keys())\n",
        "print(classification_report(test.classes, vgg16_ypred, target_names= vgg16_classes))\n"
      ]
    },
    {
      "cell_type": "markdown",
      "id": "ff6d7bc5",
      "metadata": {
        "id": "ff6d7bc5"
      },
      "source": [
        "# Custom Deep Neural Network\n",
        "### 3.2"
      ]
    },
    {
      "cell_type": "code",
      "execution_count": null,
      "id": "bb06a042",
      "metadata": {
        "id": "bb06a042",
        "outputId": "f9b984a4-9190-4331-85af-5130acb41387"
      },
      "outputs": [
        {
          "name": "stdout",
          "output_type": "stream",
          "text": [
            "Model: \"sequential_1\"\n",
            "_________________________________________________________________\n",
            " Layer (type)                Output Shape              Param #   \n",
            "=================================================================\n",
            " conv2d (Conv2D)             (None, 222, 222, 32)      896       \n",
            "                                                                 \n",
            " max_pooling2d (MaxPooling2D  (None, 111, 111, 32)     0         \n",
            " )                                                               \n",
            "                                                                 \n",
            " conv2d_1 (Conv2D)           (None, 109, 109, 64)      18496     \n",
            "                                                                 \n",
            " max_pooling2d_1 (MaxPooling  (None, 54, 54, 64)       0         \n",
            " 2D)                                                             \n",
            "                                                                 \n",
            " conv2d_2 (Conv2D)           (None, 52, 52, 128)       73856     \n",
            "                                                                 \n",
            " max_pooling2d_2 (MaxPooling  (None, 26, 26, 128)      0         \n",
            " 2D)                                                             \n",
            "                                                                 \n",
            " flatten_3 (Flatten)         (None, 86528)             0         \n",
            "                                                                 \n",
            " dense_6 (Dense)             (None, 512)               44302848  \n",
            "                                                                 \n",
            " dense_7 (Dense)             (None, 512)               262656    \n",
            "                                                                 \n",
            " dense_8 (Dense)             (None, 4)                 2052      \n",
            "                                                                 \n",
            "=================================================================\n",
            "Total params: 44,660,804\n",
            "Trainable params: 44,660,804\n",
            "Non-trainable params: 0\n",
            "_________________________________________________________________\n"
          ]
        }
      ],
      "source": [
        "cnn_model = Sequential()\n",
        "\n",
        "# Build the model\n",
        "cnn_model.add(Conv2D(32, (3, 3), activation='relu', input_shape=(224, 224, 3)))\n",
        "cnn_model.add(MaxPool2D((2, 2)))\n",
        "\n",
        "cnn_model.add(Conv2D(64, (3, 3), activation='relu'))\n",
        "cnn_model.add(MaxPool2D((2, 2)))\n",
        "\n",
        "cnn_model.add(Conv2D(128, (3, 3), activation='relu'))\n",
        "cnn_model.add(MaxPool2D((2, 2)))\n",
        "\n",
        "# Flatten and add Dense layers\n",
        "cnn_model.add(Flatten())\n",
        "cnn_model.add(Dense(512, activation='relu'))\n",
        "cnn_model.add(Dense(512, activation='relu'))\n",
        "cnn_model.add(Dense(4, activation='softmax'))  # 4 classes for Alzheimer's stages\n",
        "\n",
        "# Compile the model\n",
        "cnn_model.compile(optimizer='adam',\n",
        "              loss='categorical_crossentropy',\n",
        "              metrics=['accuracy'])\n",
        "\n",
        "cnn_model.summary()"
      ]
    },
    {
      "cell_type": "code",
      "execution_count": null,
      "id": "f2798c63",
      "metadata": {
        "id": "f2798c63",
        "outputId": "c204f15c-c4d8-4fc5-db24-56a613491c32"
      },
      "outputs": [
        {
          "name": "stdout",
          "output_type": "stream",
          "text": [
            "Epoch 1/10\n",
            "321/321 [==============================] - 630s 2s/step - loss: 1.0354 - accuracy: 0.5087 - val_loss: 1.1360 - val_accuracy: 0.5004\n",
            "Epoch 2/10\n",
            "321/321 [==============================] - 435s 1s/step - loss: 0.9108 - accuracy: 0.5579 - val_loss: 0.9633 - val_accuracy: 0.5496\n",
            "Epoch 3/10\n",
            "321/321 [==============================] - 406s 1s/step - loss: 0.8638 - accuracy: 0.5694 - val_loss: 0.9443 - val_accuracy: 0.5418\n",
            "Epoch 4/10\n",
            "321/321 [==============================] - 420s 1s/step - loss: 0.8099 - accuracy: 0.6122 - val_loss: 0.9650 - val_accuracy: 0.5324\n",
            "Epoch 5/10\n",
            "321/321 [==============================] - 492s 2s/step - loss: 0.7635 - accuracy: 0.6372 - val_loss: 0.9526 - val_accuracy: 0.5278\n",
            "Epoch 6/10\n",
            "321/321 [==============================] - 587s 2s/step - loss: 0.7071 - accuracy: 0.6657 - val_loss: 0.9434 - val_accuracy: 0.5567\n",
            "Epoch 7/10\n",
            "321/321 [==============================] - 638s 2s/step - loss: 0.6257 - accuracy: 0.7157 - val_loss: 1.1357 - val_accuracy: 0.5356\n",
            "Epoch 8/10\n",
            "321/321 [==============================] - 637s 2s/step - loss: 0.5738 - accuracy: 0.7450 - val_loss: 1.0356 - val_accuracy: 0.5754\n",
            "Epoch 9/10\n",
            "321/321 [==============================] - 503s 2s/step - loss: 0.4973 - accuracy: 0.7829 - val_loss: 1.1907 - val_accuracy: 0.5887\n",
            "Epoch 10/10\n",
            "321/321 [==============================] - 640s 2s/step - loss: 0.4452 - accuracy: 0.7998 - val_loss: 1.3891 - val_accuracy: 0.5778\n"
          ]
        }
      ],
      "source": [
        "cnn_trained = cnn_model.fit(\n",
        "    train,\n",
        "    epochs=10,  # Adjust as needed\n",
        "    validation_data=test\n",
        ")"
      ]
    },
    {
      "cell_type": "code",
      "execution_count": null,
      "id": "9f9435e6",
      "metadata": {
        "id": "9f9435e6",
        "outputId": "460909a0-b6eb-4767-e7c1-6bbf93de4a4d"
      },
      "outputs": [
        {
          "data": {
            "image/png": "[encoded data removed]",
            "text/plain": [
              "<Figure size 640x480 with 1 Axes>"
            ]
          },
          "metadata": {},
          "output_type": "display_data"
        },
        {
          "name": "stdout",
          "output_type": "stream",
          "text": [
            "80/80 - 12s - loss: 1.3891 - accuracy: 0.5778 - 12s/epoch - 148ms/step\n",
            "Test accuracy: 0.577795147895813\n"
          ]
        }
      ],
      "source": [
        "# Plot history\n",
        "plt.plot(cnn_trained.history['accuracy'], label='accuracy')\n",
        "plt.plot(cnn_trained.history['val_accuracy'], label = 'val_accuracy')\n",
        "plt.xlabel('Epoch')\n",
        "plt.ylabel('Accuracy')\n",
        "plt.ylim([0, 1])\n",
        "plt.legend(loc='lower right')\n",
        "plt.show()\n",
        "\n",
        "# Evaluate model\n",
        "cnn_test_loss, cnn_test_acc = cnn_model.evaluate(test, verbose=2)\n",
        "print(f'Test accuracy: {cnn_test_acc}')"
      ]
    },
    {
      "cell_type": "code",
      "execution_count": null,
      "id": "04d0b7cc",
      "metadata": {
        "id": "04d0b7cc",
        "outputId": "58171e1d-6ac6-4cd4-aad4-a39faaad5a42"
      },
      "outputs": [
        {
          "name": "stdout",
          "output_type": "stream",
          "text": [
            "80/80 [==============================] - 9s 107ms/step\n",
            "                  precision    recall  f1-score   support\n",
            "\n",
            "    MildDemented       0.15      0.13      0.14       179\n",
            "ModerateDemented       0.00      0.00      0.00        12\n",
            "     NonDemented       0.49      0.29      0.36       640\n",
            "VeryMildDemented       0.36      0.58      0.44       448\n",
            "\n",
            "        accuracy                           0.37      1279\n",
            "       macro avg       0.25      0.25      0.24      1279\n",
            "    weighted avg       0.39      0.37      0.36      1279\n",
            "\n"
          ]
        }
      ],
      "source": [
        "# Predict\n",
        "cnn_preds = cnn_model.predict(test)\n",
        "cnn_ypred = np.argmax(cnn_preds, axis=1)\n",
        "\n",
        "# Classification report\n",
        "cnn_tdict = test.class_indices\n",
        "cnn_classes = list(cnn_tdict.keys())\n",
        "print(classification_report(test.classes, cnn_ypred, target_names= cnn_classes))\n"
      ]
    },
    {
      "cell_type": "markdown",
      "id": "eb1d2a31",
      "metadata": {
        "id": "eb1d2a31"
      },
      "source": [
        "# Student Model - MLP\n",
        "### 3.3"
      ]
    },
    {
      "cell_type": "code",
      "execution_count": null,
      "id": "8d2ec684",
      "metadata": {
        "id": "8d2ec684"
      },
      "outputs": [],
      "source": [
        "# Initialize model\n",
        "student_model = Sequential()\n",
        "\n",
        "# Flatten image\n",
        "student_model.add(Flatten(input_shape=(224, 224, 3)))"
      ]
    },
    {
      "cell_type": "markdown",
      "id": "366a8c53",
      "metadata": {
        "id": "366a8c53"
      },
      "source": [
        "### Justification\n",
        "I chose a rather simplistic model in order not to further complicate and add to the training time. I also choose it to be MLP to better demonstrate its differences from the custom deep neural network. Three layers with ReLU as the activation function are implemented, rather popularly used for being computationally efficient. For the output layer, however, instead of sigmoid, I implemented softmax instead as that is built for multiclass classification rather than binary classification.\n",
        "\n",
        "Again, MLP is not necessarily the best for image classification, but it is chosen more so to differentiate itself from the custom deep neural network and transfer learning models.\n",
        "\n",
        "(Ignore that it has eight layers; it was trained on four layers. I accidentally ran it twice while writing this.)"
      ]
    },
    {
      "cell_type": "code",
      "execution_count": null,
      "id": "77c5df6e",
      "metadata": {
        "id": "77c5df6e",
        "outputId": "515389c6-cf90-4005-adcc-ca69197965bf"
      },
      "outputs": [
        {
          "name": "stdout",
          "output_type": "stream",
          "text": [
            "Model: \"sequential\"\n",
            "_________________________________________________________________\n",
            " Layer (type)                Output Shape              Param #   \n",
            "=================================================================\n",
            " flatten_2 (Flatten)         (None, 150528)            0         \n",
            "                                                                 \n",
            " dense_2 (Dense)             (None, 512)               77070848  \n",
            "                                                                 \n",
            " dense_3 (Dense)             (None, 256)               131328    \n",
            "                                                                 \n",
            " dense_4 (Dense)             (None, 128)               32896     \n",
            "                                                                 \n",
            " dense_5 (Dense)             (None, 4)                 516       \n",
            "                                                                 \n",
            " dense_10 (Dense)            (None, 512)               2560      \n",
            "                                                                 \n",
            " dense_11 (Dense)            (None, 256)               131328    \n",
            "                                                                 \n",
            " dense_12 (Dense)            (None, 128)               32896     \n",
            "                                                                 \n",
            " dense_13 (Dense)            (None, 4)                 516       \n",
            "                                                                 \n",
            "=================================================================\n",
            "Total params: 77,402,888\n",
            "Trainable params: 77,402,888\n",
            "Non-trainable params: 0\n",
            "_________________________________________________________________\n"
          ]
        }
      ],
      "source": [
        "# Build the model\n",
        "student_model.add(Dense(512, activation='relu'))\n",
        "student_model.add(Dense(256, activation='relu'))\n",
        "student_model.add(Dense(128, activation='relu'))\n",
        "student_model.add(Dense(4, activation='softmax'))\n",
        "\n",
        "# Compile the model\n",
        "student_model.compile(optimizer='adam', loss='categorical_crossentropy', metrics=['accuracy'])\n",
        "\n",
        "student_model.summary()"
      ]
    },
    {
      "cell_type": "code",
      "execution_count": null,
      "id": "3d2d8096",
      "metadata": {
        "id": "3d2d8096",
        "outputId": "4085ed17-a77a-4357-844b-f40230c85019"
      },
      "outputs": [
        {
          "name": "stdout",
          "output_type": "stream",
          "text": [
            "Epoch 1/10\n",
            "321/321 [==============================] - 278s 861ms/step - loss: 5.1150 - accuracy: 0.4597 - val_loss: 1.2664 - val_accuracy: 0.5035\n",
            "Epoch 2/10\n",
            "321/321 [==============================] - 328s 1s/step - loss: 1.1948 - accuracy: 0.4917 - val_loss: 1.0360 - val_accuracy: 0.4980\n",
            "Epoch 3/10\n",
            "321/321 [==============================] - 351s 1s/step - loss: 1.0385 - accuracy: 0.5124 - val_loss: 1.3158 - val_accuracy: 0.5020\n",
            "Epoch 4/10\n",
            "321/321 [==============================] - 139s 433ms/step - loss: 0.9746 - accuracy: 0.5337 - val_loss: 1.4324 - val_accuracy: 0.5082\n",
            "Epoch 5/10\n",
            "321/321 [==============================] - 130s 404ms/step - loss: 0.9384 - accuracy: 0.5393 - val_loss: 1.0814 - val_accuracy: 0.5160\n",
            "Epoch 6/10\n",
            "321/321 [==============================] - 132s 410ms/step - loss: 0.9427 - accuracy: 0.5356 - val_loss: 1.4187 - val_accuracy: 0.5215\n",
            "Epoch 7/10\n",
            "321/321 [==============================] - 129s 402ms/step - loss: 0.9337 - accuracy: 0.5475 - val_loss: 1.4410 - val_accuracy: 0.5207\n",
            "Epoch 8/10\n",
            "321/321 [==============================] - 135s 419ms/step - loss: 0.9343 - accuracy: 0.5462 - val_loss: 1.2254 - val_accuracy: 0.5238\n",
            "Epoch 9/10\n",
            "321/321 [==============================] - 310s 968ms/step - loss: 0.9233 - accuracy: 0.5563 - val_loss: 1.5127 - val_accuracy: 0.5145\n",
            "Epoch 10/10\n",
            "321/321 [==============================] - 348s 1s/step - loss: 0.9374 - accuracy: 0.5317 - val_loss: 1.5366 - val_accuracy: 0.5004\n"
          ]
        }
      ],
      "source": [
        "# Train the model\n",
        "student_trained = student_model.fit(\n",
        "    train,\n",
        "    validation_data=test,\n",
        "    epochs=10)"
      ]
    },
    {
      "cell_type": "code",
      "execution_count": null,
      "id": "0a7e007c",
      "metadata": {
        "id": "0a7e007c",
        "outputId": "7fafa66a-6314-43c9-e727-273f6e6d9085"
      },
      "outputs": [
        {
          "data": {
            "image/png": "[encoded data removed]",
            "text/plain": [
              "<Figure size 640x480 with 1 Axes>"
            ]
          },
          "metadata": {},
          "output_type": "display_data"
        },
        {
          "name": "stdout",
          "output_type": "stream",
          "text": [
            "80/80 - 13s - loss: 1.5366 - accuracy: 0.5004 - 13s/epoch - 161ms/step\n",
            "Test accuracy: 0.5003909468650818\n"
          ]
        }
      ],
      "source": [
        "# Plot history\n",
        "plt.plot(student_trained.history['accuracy'], label='accuracy')\n",
        "plt.plot(student_trained.history['val_accuracy'], label = 'val_accuracy')\n",
        "plt.xlabel('Epoch')\n",
        "plt.ylabel('Accuracy')\n",
        "plt.ylim([0, 1])\n",
        "plt.legend(loc='lower right')\n",
        "plt.show()\n",
        "\n",
        "# Evaluate model\n",
        "student_test_loss, student_test_acc = student_model.evaluate(test, verbose=2)\n",
        "print(f'Test accuracy: {student_test_acc}')"
      ]
    },
    {
      "cell_type": "code",
      "execution_count": null,
      "id": "0b2202d1",
      "metadata": {
        "id": "0b2202d1",
        "outputId": "7f053bf9-a6d7-45d5-8195-9415335acc94"
      },
      "outputs": [
        {
          "name": "stdout",
          "output_type": "stream",
          "text": [
            "80/80 [==============================] - 4s 44ms/step\n",
            "                  precision    recall  f1-score   support\n",
            "\n",
            "    MildDemented       0.00      0.00      0.00       179\n",
            "ModerateDemented       0.00      0.00      0.00        12\n",
            "     NonDemented       0.50      1.00      0.67       640\n",
            "VeryMildDemented       0.00      0.00      0.00       448\n",
            "\n",
            "        accuracy                           0.50      1279\n",
            "       macro avg       0.13      0.25      0.17      1279\n",
            "    weighted avg       0.25      0.50      0.33      1279\n",
            "\n"
          ]
        },
        {
          "name": "stderr",
          "output_type": "stream",
          "text": [
            "C:\\Users\\babygirl\\anaconda3\\envs\\tf\\lib\\site-packages\\sklearn\\metrics\\_classification.py:1469: UndefinedMetricWarning: Precision and F-score are ill-defined and being set to 0.0 in labels with no predicted samples. Use `zero_division` parameter to control this behavior.\n",
            "  _warn_prf(average, modifier, msg_start, len(result))\n",
            "C:\\Users\\babygirl\\anaconda3\\envs\\tf\\lib\\site-packages\\sklearn\\metrics\\_classification.py:1469: UndefinedMetricWarning: Precision and F-score are ill-defined and being set to 0.0 in labels with no predicted samples. Use `zero_division` parameter to control this behavior.\n",
            "  _warn_prf(average, modifier, msg_start, len(result))\n",
            "C:\\Users\\babygirl\\anaconda3\\envs\\tf\\lib\\site-packages\\sklearn\\metrics\\_classification.py:1469: UndefinedMetricWarning: Precision and F-score are ill-defined and being set to 0.0 in labels with no predicted samples. Use `zero_division` parameter to control this behavior.\n",
            "  _warn_prf(average, modifier, msg_start, len(result))\n"
          ]
        }
      ],
      "source": [
        "# Predict\n",
        "stu_preds = student_model.predict(test)\n",
        "stu_ypred = np.argmax(stu_preds, axis=1)\n",
        "\n",
        "# Classification report\n",
        "stu_tdict = test.class_indices\n",
        "stu_classes = list(stu_tdict.keys())\n",
        "print(classification_report(test.classes, stu_ypred, target_names= stu_classes))"
      ]
    },
    {
      "cell_type": "markdown",
      "id": "4f4bea8a",
      "metadata": {
        "id": "4f4bea8a"
      },
      "source": [
        "# Analysis\n",
        "### #4 and #5\n",
        "\n",
        "Out of all the models, transfer learning with a VGG16 model performed the best, according to the classification report and accuracy graphed. Perhaps because it is a model that is already optimized to learn from images that helps it perform the best as far as accuracy, followed by the custom deep neural network, a convolutional neural network which particularly perform well to process images and recognize patterns. On the other hand, MLP can still be used for such the same task, but CNNs understand spatial relationships whereas MLPs do not, hence why CNNs tended to perform better than MLP.\n",
        "\n",
        "The only thing is that MLP is much faster compared to other models with the same number of epochs (in this case, 10). Training time, however, is arbitrary as it will only need to be trained once or few times, whereas it will be ran multiple times. As such, accuracy matters more.\n",
        "\n",
        "Therefore, I recommend using transfer learning models, especially for those with less advanced understanding of machine learning or neural networks. For those who understand them better, they may be able to increase the accuracy of the models, and even cut training to a shorter time somehow, as they will be specifically tailored to the dataset rather than using a more general model. Though, transfer learning models may be remedied to fit the dataset better, were it to be fine-tuned. Customizing it to this dataset will reduce its generalizability, however.\n",
        "\n",
        "Going forward, these accuracies may be better improved with further fine-tuning, more thoughtfully implemented layers, and more epochs, but for now, this provides a short demonstration of the performances of these models compared to one aother."
      ]
    },
    {
      "cell_type": "code",
      "execution_count": null,
      "id": "0df56465",
      "metadata": {
        "id": "0df56465"
      },
      "outputs": [],
      "source": []
    }
  ],
  "metadata": {
    "kernelspec": {
      "display_name": "Python 3",
      "name": "python3"
    },
    "language_info": {
      "codemirror_mode": {
        "name": "ipython",
        "version": 3
      },
      "file_extension": ".py",
      "mimetype": "text/x-python",
      "name": "python",
      "nbconvert_exporter": "python",
      "pygments_lexer": "ipython3",
      "version": "3.10.13"
    },
    "colab": {
      "provenance": [],
      "gpuType": "T4"
    },
    "accelerator": "GPU"
  },
  "nbformat": 4,
  "nbformat_minor": 5
}